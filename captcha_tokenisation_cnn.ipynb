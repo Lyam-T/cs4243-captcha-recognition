{
 "cells": [
  {
   "cell_type": "code",
   "execution_count": 54,
   "id": "80fa7faa-543d-4ee1-9909-f2fc693445bc",
   "metadata": {},
   "outputs": [],
   "source": [
    "import os\n",
    "import cv2\n",
    "import numpy as np\n",
    "from matplotlib import pyplot as plt"
   ]
  },
  {
   "cell_type": "code",
   "execution_count": 14,
   "id": "ab61af69-ac5a-4ecf-bf76-75b94eca2d88",
   "metadata": {},
   "outputs": [
    {
     "name": "stdout",
     "output_type": "stream",
     "text": [
      "[DEBUG] current directory: /Users/Liam/Desktop/git/cs4243_proj\n"
     ]
    }
   ],
   "source": [
    "CUR_DIR = os.getcwd()\n",
    "# print(f'[DEBUG] current directory: {CUR_DIR}')"
   ]
  },
  {
   "cell_type": "code",
   "execution_count": 157,
   "id": "054a2212-cefb-4657-bbeb-6cde69c367ad",
   "metadata": {},
   "outputs": [],
   "source": [
    "def load_data(file_path):\n",
    "    n_samples = len(os.listdir(file_path))\n",
    "    imgs = []\n",
    "    labels = []\n",
    "    \n",
    "    # read from the directory\n",
    "    for i, img in enumerate(os.listdir(file_path)):\n",
    "        if (i == 1):\n",
    "            break\n",
    "        imgs.append(cv2.resize(cv2.imread(os.path.join(file_path, img), 0), (300, 60)))\n",
    "        labels.append(img[0:-6])\n",
    "    \n",
    "    return np.array(imgs), labels"
   ]
  },
  {
   "cell_type": "code",
   "execution_count": 151,
   "id": "b2cfa426-7c85-4589-bbe7-dc027200b478",
   "metadata": {},
   "outputs": [],
   "source": [
    "def preprocessing_image(imgs):\n",
    "    # Contrast Limited Adaptive Histogram Equalization (CLAHE)\n",
    "    clahe = cv2.createCLAHE(clipLimit=2.0, tileGridSize=(8,8))\n",
    "    enhanced = [clahe.apply(img) for img in imgs]\n",
    "    \n",
    "    # # Edge-preserving bilateral filter\n",
    "    # filtered = [cv2.bilateralFilter(img, 9, 75, 75) for img in enhanced]\n",
    "    \n",
    "    # Local thresholding to preserve weak characters\n",
    "    binary = [cv2.adaptiveThreshold(img, 255, \n",
    "                                 cv2.ADAPTIVE_THRESH_GAUSSIAN_C,\n",
    "                                 cv2.THRESH_BINARY_INV, 11, 4) for img in enhanced]\n",
    "\n",
    "    # # Horizontal line removal\n",
    "    # horizontal_kernel = cv2.getStructuringElement(cv2.MORPH_RECT, (25,1))\n",
    "    # detected_lines = [cv2.morphologyEx(img, cv2.MORPH_OPEN, horizontal_kernel, iterations=2) for img in binary]\n",
    "    # cleaned = [cv2.subtract(img, detected_lines) for (img, detected_lines) in zip(binary, detected_lines)]\n",
    "    \n",
    "    return chars"
   ]
  },
  {
   "cell_type": "code",
   "execution_count": 177,
   "id": "1e8b05be-2d46-490c-bc35-b60af132534c",
   "metadata": {},
   "outputs": [],
   "source": [
    "def tokenisation(imgs):\n",
    "\n",
    "    # Stronger binarization (adjust threshold)\n",
    "    _, thresh = cv2.threshold(imgs, 0, 255, cv2.THRESH_BINARY_INV + cv2.THRESH_OTSU)\n",
    "    \n",
    "    # Remove small noise\n",
    "    kernel = np.ones((2,2), np.uint8)\n",
    "    cleaned = cv2.morphologyEx(thresh, cv2.MORPH_OPEN, kernel, iterations=1)\n",
    "    \n",
    "    # Find contours (connected components)\n",
    "    contours, _ = cv2.findContours(cleaned, cv2.RETR_EXTERNAL, cv2.CHAIN_APPROX_SIMPLE)\n",
    "    \n",
    "    # Extract bounding boxes & sort left-to-right\n",
    "    boxes = [cv2.boundingRect(c) for c in contours]\n",
    "    boxes = sorted(boxes, key=lambda x: x[0])  # Sort by x-coordinate\n",
    "    \n",
    "    # Crop characters\n",
    "    chars = []\n",
    "    for x, y, w, h in boxes:\n",
    "        char = imgs[y:y+h, x:x+w]\n",
    "        chars.append(char)\n",
    "\n",
    "    return chars"
   ]
  },
  {
   "cell_type": "code",
   "execution_count": 189,
   "id": "5698a557-39ff-4b00-acdb-91d34ebe36d3",
   "metadata": {},
   "outputs": [],
   "source": [
    "def train():\n",
    "    print('[INFO] start training')\n",
    "    imgs, labels = load_data('./data/train')\n",
    "\n",
    "    # print the original img\n",
    "    plt.figure(figsize=(8,8))\n",
    "    for i in range(len(imgs)):\n",
    "        plt.subplot(5, 2, i+1)\n",
    "        plt.imshow(imgs[i])\n",
    "        plt.xlabel(f\"{labels[i]}\")\n",
    "    plt.show()\n",
    "\n",
    "    # processed_imgs = preprocessing_image(imgs)\n",
    "    chars = tokenisation(imgs[0])\n",
    "\n",
    "    # print the processed img\n",
    "    plt.figure(figsize=(8,8))\n",
    "    for i in range(len(chars)):\n",
    "        plt.subplot(5, 2, i+1)\n",
    "        plt.imshow(chars[i])\n",
    "    plt.show()\n",
    "\n",
    "    # for char in chars:\n",
    "    #     plt.figure(figsize=(8,8))\n",
    "    #     plt.imshow(char)\n",
    "    #     plt.show()\n",
    "    #     plt.close()"
   ]
  },
  {
   "cell_type": "code",
   "execution_count": 191,
   "id": "76bbd730-c319-4adc-8e1b-4f27281b7276",
   "metadata": {},
   "outputs": [
    {
     "name": "stdout",
     "output_type": "stream",
     "text": [
      "[INFO] start training\n"
     ]
    },
    {
     "data": {
      "image/png": "[encoded data removed]",
      "text/plain": [
       "<Figure size 800x800 with 1 Axes>"
      ]
     },
     "metadata": {},
     "output_type": "display_data"
    },
    {
     "data": {
      "image/png": "[encoded data removed]",
      "text/plain": [
       "<Figure size 800x800 with 8 Axes>"
      ]
     },
     "metadata": {},
     "output_type": "display_data"
    }
   ],
   "source": [
    "if __name__ == '__main__':\n",
    "    train()"
   ]
  }
 ],
 "metadata": {
  "kernelspec": {
   "display_name": "Python [conda env:base] *",
   "language": "python",
   "name": "conda-base-py"
  },
  "language_info": {
   "codemirror_mode": {
    "name": "ipython",
    "version": 3
   },
   "file_extension": ".py",
   "mimetype": "text/x-python",
   "name": "python",
   "nbconvert_exporter": "python",
   "pygments_lexer": "ipython3",
   "version": "3.12.7"
  }
 },
 "nbformat": 4,
 "nbformat_minor": 5
}
