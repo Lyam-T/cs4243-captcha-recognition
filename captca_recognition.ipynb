{
 "cells": [
  {
   "cell_type": "code",
   "execution_count": 132,
   "id": "59598779-2d51-4df2-a684-18afef8d23c2",
   "metadata": {},
   "outputs": [],
   "source": [
    "# import needed lib\n",
    "import os\n",
    "import random\n",
    "import numpy as np\n",
    "import cv2\n",
    "import tensorflow as tf\n",
    "from tensorflow import keras\n",
    "from matplotlib import pyplot as plt\n",
    "import joblib"
   ]
  },
  {
   "cell_type": "code",
   "execution_count": 134,
   "id": "6c73d869-b996-41dc-a20f-3ac4365a686b",
   "metadata": {},
   "outputs": [],
   "source": [
    "CUR_DIR = os.getcwd()"
   ]
  },
  {
   "cell_type": "code",
   "execution_count": 136,
   "id": "7c40b50b-c486-41b9-8d31-a1595b8c4351",
   "metadata": {},
   "outputs": [],
   "source": [
    "# read all the captcha \n",
    "def load_data(file_path):\n",
    "    n_samples = len(os.listdir(file_path))\n",
    "    imgs = []\n",
    "    labels = []\n",
    "\n",
    "    # read from the directory\n",
    "    for i, img in enumerate(os.listdir(file_path)):\n",
    "        if (i == 10):\n",
    "            break;\n",
    "        imgs.append(cv2.resize(cv2.imread(os.path.join(file_path, img), 0), (300, 57)))\n",
    "        labels.append(img[0:-6])\n",
    "\n",
    "    return np.array(imgs), labels\n",
    "\n",
    "    # # print the ddtype\n",
    "    # print(X[0].dtype) # uint8\n",
    "\n",
    "    # # preprocess the image\n",
    "    # for i in range(len(X)):\n",
    "    #     X[i] = cv2.resize(X[i], (300, 57)) # reshape it to the same size\n",
    "    #     X[i] = cv2.equalizeHist(X[i]) # increase the contrast of the img\n",
    "    #     # X[i] = cv2.medianBlur(X[i], (2)) # try to remove noise term"
   ]
  },
  {
   "cell_type": "code",
   "execution_count": 138,
   "id": "fb62c173-2847-4fd8-b92f-941c3e23aca9",
   "metadata": {},
   "outputs": [],
   "source": [
    "def preprocess_data(imgs):\n",
    "    processed_data = imgs\n",
    "    return processed_data"
   ]
  },
  {
   "cell_type": "code",
   "execution_count": 146,
   "id": "de2c9975-bcc0-4f9c-96cd-e32a9693969b",
   "metadata": {},
   "outputs": [],
   "source": [
    "from sklearn.model_selection import train_test_split\n",
    "def split_data(X, y):\n",
    "    X_train, X_val, y_train, y_val = train_test_split(X, y, test_size=0.2, random_state=42)\n",
    "    return X_train, X_val, y_train, y_val"
   ]
  },
  {
   "cell_type": "code",
   "execution_count": 270,
   "id": "efbeb9f6-29b2-4a39-b774-591a573181bd",
   "metadata": {},
   "outputs": [],
   "source": [
    "from sklearn.preprocessing import LabelEncoder\n",
    "# Encode labels as sequences of integers\n",
    "def encode_labels(labels, max_timesteps):\n",
    "    label_encoder = LabelEncoder()\n",
    "    label_encoder.fit(list(\"ABCDEFGHIJKLMNOPQRSTUVWXYZabcdefghijklmnopqrstuvwxyz0123456789\"))  # All possible characters\n",
    "    encoded_labels = [label_encoder.transform(list(label)) for label in labels]\n",
    "    padded_labels = np.array([\n",
    "        np.pad(l, (0, max_timesteps - len(l)), \n",
    "               mode='constant', constant_values=-1)\n",
    "        for l in encoded_labels\n",
    "    ])\n",
    "    joblib.dump(label_encoder, 'label_encoder.pkl')  # Save to file\n",
    "    return padded_labels, label_encoder"
   ]
  },
  {
   "cell_type": "code",
   "execution_count": 510,
   "id": "4709a016-08ed-480f-9ddd-c01e54e8f210",
   "metadata": {},
   "outputs": [],
   "source": [
    "# CTC loss function\n",
    "def ctc_loss(y_true, y_pred):\n",
    "    # print('[DEBUG] start ctc_loss')\n",
    "    # tf.config.run_functions_eagerly(True)  # Temporary debug\n",
    "\n",
    "    # Get the batch size and sequence length\n",
    "    batch_size = tf.shape(y_pred)[0]\n",
    "    seq_length = tf.shape(y_pred)[1]\n",
    "    \n",
    "    # Calculate input length (same for all samples)\n",
    "    input_length = tf.fill([batch_size], seq_length)  # [259, 259,...]\n",
    "    \n",
    "    # Calculate label length (count non-padded tokens)\n",
    "    label_length = tf.reduce_sum(tf.cast(y_true != -1, tf.int32), axis=1)\n",
    "    \n",
    "    # Convert types for CTC\n",
    "    y_true = tf.cast(y_true, tf.int32)\n",
    "    input_length = tf.cast(input_length, tf.int32)\n",
    "    label_length = tf.cast(label_length, tf.int32)\n",
    "\n",
    "    # Reshape tensors for CTC\n",
    "    y_true = tf.reshape(y_true, [batch_size, -1])  # Ensure 2D\n",
    "    input_length = tf.reshape(input_length, [batch_size, 1])\n",
    "    label_length = tf.reshape(label_length, [batch_size, 1])\n",
    "\n",
    "    # print(f'[DEBUG] shape: y_true {y_true.shape}, y_pred: {y_pred.shape}')\n",
    "    # print(f'[DEBUG] batch_size: {batch_size}, input_length: {input_length}, label_length: {label_length}')\n",
    "            \n",
    "    # Compute loss\n",
    "    loss = keras.backend.ctc_batch_cost(\n",
    "        y_true, y_pred,\n",
    "        input_length=input_length,\n",
    "        label_length=label_length\n",
    "    )\n",
    "\n",
    "    return loss"
   ]
  },
  {
   "cell_type": "code",
   "execution_count": 468,
   "id": "483fa020-c5d7-4f08-8964-cce6268bb7d6",
   "metadata": {},
   "outputs": [],
   "source": [
    "class CTCMetrics(tf.keras.callbacks.Callback):\n",
    "    def __init__(self, validation_data, encoder, batch_size=32):\n",
    "        super().__init__()\n",
    "        self.validation_data = validation_data\n",
    "        self.encoder = encoder\n",
    "        self.batch_size = batch_size\n",
    "        \n",
    "    def on_epoch_end(self, epoch, logs=None):\n",
    "        # print('[DEBUG] start ctc metrics')\n",
    "        x_val, y_val = self.validation_data\n",
    "        total_samples = len(x_val)\n",
    "        correct = 0\n",
    "\n",
    "        # print(f\"\\n[DEBUG] y_val shape: {y_val.shape}, min/max: {y_val.min()}/{y_val.max()}\")\n",
    "            \n",
    "        # Process in batches to avoid memory issues\n",
    "        for i in range(0, total_samples, self.batch_size):\n",
    "            batch_x = x_val[i:i+self.batch_size]\n",
    "            batch_y = y_val[i:i+self.batch_size]\n",
    "            \n",
    "            # Predict\n",
    "            y_pred = self.model.predict(batch_x, verbose=0)\n",
    "            # print(f\"[DEBUG] y_pred shape: {y_pred.shape}\")\n",
    "            \n",
    "            # CTC decode\n",
    "            input_length = np.ones(y_pred.shape[0]) * y_pred.shape[1]\n",
    "            decoded, _ = tf.keras.backend.ctc_decode(\n",
    "                y_pred,\n",
    "                input_length=input_length,\n",
    "                greedy=True\n",
    "            )\n",
    "            pred_indices = decoded[0].numpy()\n",
    "    \n",
    "\n",
    "            \n",
    "            # Compare predictions with ground truth\n",
    "            for true_seq, pred_seq in zip(batch_y, pred_indices):\n",
    "                # Remove padding (-1) and decode\n",
    "                true_chars = true_seq[true_seq != -1]\n",
    "                pred_chars = pred_seq[pred_seq != -1]\n",
    "                \n",
    "                # Convert to text\n",
    "                true_text = ''.join(self.encoder.inverse_transform(true_chars))\n",
    "                pred_text = ''.join(self.encoder.inverse_transform(pred_chars))\n",
    "                \n",
    "                if true_text == pred_text:\n",
    "                    correct += 1\n",
    "        \n",
    "        accuracy = correct / total_samples\n",
    "        print(f\"[INFO] Validation Accuracy: {accuracy:.4f}\")\n",
    "        print(f\"[INFO] True: '{true_text}' vs Pred: '{pred_text}'\")\n",
    "        logs['val_accuracy'] = accuracy  # Store for history"
   ]
  },
  {
   "cell_type": "code",
   "execution_count": 352,
   "id": "a651a079-536f-4153-a80e-0816e9188ab4",
   "metadata": {},
   "outputs": [],
   "source": [
    "def train():\n",
    "    # loading data\n",
    "    imgs, labels = load_data(\"./data/train\") # (10, 57, 300), (10)\n",
    "\n",
    "    # # print the ddtype\n",
    "    # print(imgs[0].dtype) # uint8\n",
    "    \n",
    "    # # print the original img\n",
    "    # plt.figure(figsize=(8,8))\n",
    "    # for i in range(len(imgs)):\n",
    "    #     plt.subplot(5, 2, i+1)\n",
    "    #     plt.imshow(imgs[i])\n",
    "    #     plt.xlabel(f\"{labels[i]}\")\n",
    "    # plt.show()\n",
    "\n",
    "    # preprocess data\n",
    "    processed_imgs = preprocess_data(imgs)\n",
    "\n",
    "    # encode labels\n",
    "    max_length = max(len(label) for label in labels)\n",
    "    encoded_labels, encoder = encode_labels(labels, 259)\n",
    "    # print(f'[DEBUG] shape: encoded_labels {encoded_labels.shape}')\n",
    "    # print(f'[DEBUG] encoded_label: {encoded_labels[0]}')\n",
    "    # unpadded = np.delete(encoded_labels[0], np.where(encoded_labels[0] == -1)[0])\n",
    "    # print(f'[DEBUG] unpadded_label: {unpadded}')\n",
    "    # decoded = encoder.inverse_transform(unpadded)\n",
    "    # print(f'[DEBUG] decoded: {decoded} vs true: {labels[0]}')\n",
    "    \n",
    "    # Reshape images for CNN input\n",
    "    processed_imgs_reshape = processed_imgs.reshape(-1, 57, 300, 1)  # (batch_size, height, width, channels)\n",
    "\n",
    "    # Create the model\n",
    "    input_shape = (57, 300, 1)  # Input image shape (height, width, channels)\n",
    "    num_classes = len(encoder.classes_)  # Number of unique characters\n",
    "    model = create_crnn_model(input_shape, num_classes, max_length)\n",
    "    print(f'[DEBUG] Model output layer shape: {model.output_shape}')\n",
    "    \n",
    "    # Compile the model\n",
    "    model.compile(optimizer='adam', loss=ctc_loss, metrics=['accuracy'])\n",
    "\n",
    "    # Split the data\n",
    "    X_train, X_val, y_train, y_val = split_data(processed_imgs, encoded_labels)\n",
    "\n",
    "    # Reshape the data for training\n",
    "    X_train = np.expand_dims(X_train, axis=-1)  # Shape becomes (8, 57, 300, 1)\n",
    "    X_val = np.expand_dims(X_val, axis=-1)     # Shape becomes (2, 57, 300, 1)\n",
    "    print(f'[DEBUG] shape: X_train: {X_train.shape}, X_val: {X_val.shape}')\n",
    "    print(f'[DEBUG] shape: y_train: {y_train.shape}, y_val: {y_val.shape}')\n",
    "\n",
    "    # Initialize with your actual data\n",
    "    ctc_metrics = CTCMetrics(\n",
    "        validation_data=(X_val, y_val),\n",
    "        encoder=encoder,\n",
    "        batch_size=32\n",
    "    )\n",
    "    \n",
    "    # Train with the callback\n",
    "    model.fit(\n",
    "        X_train, y_train,\n",
    "        validation_data=(X_val, y_val),\n",
    "        epochs=20,\n",
    "        batch_size=32,\n",
    "        callbacks=[ctc_metrics]\n",
    "    )\n",
    "    \n",
    "    # Save the model\n",
    "    model.save(\"captcha_crnn_model.keras\")"
   ]
  },
  {
   "cell_type": "code",
   "execution_count": 226,
   "id": "aa92f95e-17ee-4f2e-804e-ba3c6f263344",
   "metadata": {},
   "outputs": [],
   "source": [
    "from keras.models import Model\n",
    "from keras.layers import Input, Conv2D, MaxPooling2D, Reshape, LSTM, Dense, Lambda\n",
    "\n",
    "# Define the CNN + RNN model\n",
    "def create_crnn_model(input_shape, num_classes, max_length=6):\n",
    "    # Input layer\n",
    "    input_layer = Input(shape=input_shape)\n",
    "\n",
    "    # CNN layers\n",
    "    x = Conv2D(32, (3, 3), activation='relu', padding='same')(input_layer)\n",
    "    x = MaxPooling2D((2, 2))(x)\n",
    "    x = Conv2D(64, (3, 3), activation='relu', padding='same')(x)\n",
    "    x = MaxPooling2D((2, 2))(x)\n",
    "    x = Conv2D(128, (3, 3), activation='relu', padding='same')(x)\n",
    "    x = MaxPooling2D((2, 2))(x)\n",
    "\n",
    "    # Dynamic reshape for RNN\n",
    "    conv_shape = x.shape  # Get (batch, height, width, channels)\n",
    "    print(f'[DEBUG] conv_shape: {conv_shape}')\n",
    "    timesteps = conv_shape[1] * conv_shape[2]\n",
    "    features = conv_shape[3]\n",
    "    x = Reshape((timesteps, features))(x)\n",
    "\n",
    "    # RNN layers\n",
    "    x = LSTM(128, return_sequences=True)(x)\n",
    "    x = LSTM(64, return_sequences=True)(x)\n",
    "\n",
    "    # Output layer\n",
    "    output_layer = Dense(num_classes+1, activation='softmax')(x)  # +1 for CTC blank token\n",
    "\n",
    "    # Create the model\n",
    "    model = Model(inputs=input_layer, outputs=output_layer)\n",
    "    return model"
   ]
  },
  {
   "cell_type": "code",
   "execution_count": 152,
   "id": "c92973f5-498d-445e-8d68-b21f95e577e4",
   "metadata": {},
   "outputs": [],
   "source": [
    "def load_model():\n",
    "    # load keras model\n",
    "    try:\n",
    "        model_path = 'captcha_crnn_model.keras'  # or full path like 'models/your_model.keras'\n",
    "        model = keras.models.load_model(model_path, \n",
    "                                        custom_objects={'ctc_loss': keras.backend.ctc_batch_cost})\n",
    "        \n",
    "        print(\"[INFO] Model loaded successfully!\")\n",
    "        print(f\"[INFO] Model architecture:\")\n",
    "        model.summary()\n",
    "        \n",
    "    except FileNotFoundError:\n",
    "        print(f\"[ERROR] Error: File '{model_path}' not found. Check the path.\")\n",
    "    except Exception as e:\n",
    "        print(f\"[ERROR] Error loading model: {str(e)}\")\n",
    "        \n",
    "    return model\n",
    "\n",
    "def load_encoder():\n",
    "    # load labal\n",
    "    encoder = joblib.load('label_encoder.pkl')\n",
    "    print('[INFO] Encoder loaded successfully!')\n",
    "    return encoder"
   ]
  },
  {
   "cell_type": "code",
   "execution_count": 480,
   "id": "b32997db-0b28-4188-b4dd-7168d0c53ce0",
   "metadata": {},
   "outputs": [],
   "source": [
    "def decode_predictions(pred, encoder):\n",
    "    pred_decoded, _ = keras.backend.ctc_decode(pred, input_length=[pred.shape[1]], greedy=True)\n",
    "    pred_indices = pred_decoded[0].numpy()[0]\n",
    "    valid_indices = pred_indices[pred_indices != -1]\n",
    "    \n",
    "    if len(valid_indices) == 0:\n",
    "        return \"\"  # Return empty string if no valid predictions\n",
    "    \n",
    "    pred_chars = encoder.inverse_transform(valid_indices)\n",
    "    return ''.join(pred_chars)"
   ]
  },
  {
   "cell_type": "code",
   "execution_count": 506,
   "id": "a689ce2b-b16a-4164-9d63-dd0d499cb447",
   "metadata": {},
   "outputs": [],
   "source": [
    "# Predict a CAPTCHA image\n",
    "def predict_captcha(model, encoder, file_path):\n",
    "    file_path = os.path.join(CUR_DIR, file_path)\n",
    "    \n",
    "    # print(f'[DEBUG] Current file path: {file_path}')\n",
    "    \n",
    "    n_samples = len(os.listdir(file_path))\n",
    "    labels = []\n",
    "    preds = []\n",
    "    \n",
    "    # print(f'[DEBUG] Number of samples: {n_samples}')\n",
    "\n",
    "    # read from the directory\n",
    "    for i, img in enumerate(os.listdir(file_path)):\n",
    "        if (i == 1):\n",
    "            break;\n",
    "        img_read = cv2.resize(cv2.imread(os.path.join(file_path, img), 0), (300, 57))\n",
    "        labels.append(img[0:-6])\n",
    "        \n",
    "        print('[DEBUG] Image sample and its label to be predict:')\n",
    "        plt.figure(figsize=(8,8))\n",
    "        plt.imshow(img_read)\n",
    "        plt.title(f'{labels[0]}')\n",
    "        plt.show()\n",
    "        plt.close()  \n",
    "    \n",
    "        # # Preprocess the image\n",
    "        img_reshaped = img_read.reshape(-1, 57, 300, 1)  # Reshape for model input\n",
    "        print(f'[DEBUG] Image shape after preprocessing: {img_reshaped.shape}')\n",
    "        \n",
    "        # Predict the CAPTCHA\n",
    "        print('[DEBUG] model prediction:')\n",
    "        pred = model.predict(img_reshaped)\n",
    "        final_text = decode_predictions(pred, encoder)\n",
    "        preds.append(final_text)\n",
    "        print(f'[DEBUG] prediction length: {len(final_text)}')\n",
    "        print(f'[DEBUG] prediction: {final_text}')\n",
    "    return labels, preds"
   ]
  },
  {
   "cell_type": "code",
   "execution_count": 518,
   "id": "769bc959-8d34-40fc-953b-26399633efc0",
   "metadata": {},
   "outputs": [
    {
     "name": "stdout",
     "output_type": "stream",
     "text": [
      "[0 0 0 1 2 3]\n"
     ]
    }
   ],
   "source": [
    "a = np.array([1,2,3])\n",
    "print(np.pad(a, (3,0), 'constant', constant_values=0))"
   ]
  },
  {
   "cell_type": "code",
   "execution_count": 158,
   "id": "0221e008-30c2-476b-b0b2-2f8575161596",
   "metadata": {},
   "outputs": [],
   "source": [
    "def predict():\n",
    "    # print(f'[DEBUG]{os.getcwd()}')\n",
    "    model = load_model()\n",
    "    encoder = load_encoder()\n",
    "    labels, predicts = predict_captcha(model, encoder, \"data/test\")"
   ]
  },
  {
   "cell_type": "code",
   "execution_count": 504,
   "id": "5a8d957c-7490-4eb2-8284-246fe69d7d63",
   "metadata": {},
   "outputs": [
    {
     "name": "stdout",
     "output_type": "stream",
     "text": [
      "[INFO] Model loaded successfully!\n",
      "[INFO] Model architecture:\n"
     ]
    },
    {
     "data": {
      "text/html": [
       "<pre style=\"white-space:pre;overflow-x:auto;line-height:normal;font-family:Menlo,'DejaVu Sans Mono',consolas,'Courier New',monospace\"><span style=\"font-weight: bold\">Model: \"functional_47\"</span>\n",
       "</pre>\n"
      ],
      "text/plain": [
       "\u001b[1mModel: \"functional_47\"\u001b[0m\n"
      ]
     },
     "metadata": {},
     "output_type": "display_data"
    },
    {
     "data": {
      "text/html": [
       "<pre style=\"white-space:pre;overflow-x:auto;line-height:normal;font-family:Menlo,'DejaVu Sans Mono',consolas,'Courier New',monospace\">┏━━━━━━━━━━━━━━━━━━━━━━━━━━━━━━━━━┳━━━━━━━━━━━━━━━━━━━━━━━━┳━━━━━━━━━━━━━━━┓\n",
       "┃<span style=\"font-weight: bold\"> Layer (type)                    </span>┃<span style=\"font-weight: bold\"> Output Shape           </span>┃<span style=\"font-weight: bold\">       Param # </span>┃\n",
       "┡━━━━━━━━━━━━━━━━━━━━━━━━━━━━━━━━━╇━━━━━━━━━━━━━━━━━━━━━━━━╇━━━━━━━━━━━━━━━┩\n",
       "│ input_layer_50 (<span style=\"color: #0087ff; text-decoration-color: #0087ff\">InputLayer</span>)     │ (<span style=\"color: #00d7ff; text-decoration-color: #00d7ff\">None</span>, <span style=\"color: #00af00; text-decoration-color: #00af00\">57</span>, <span style=\"color: #00af00; text-decoration-color: #00af00\">300</span>, <span style=\"color: #00af00; text-decoration-color: #00af00\">1</span>)     │             <span style=\"color: #00af00; text-decoration-color: #00af00\">0</span> │\n",
       "├─────────────────────────────────┼────────────────────────┼───────────────┤\n",
       "│ conv2d_150 (<span style=\"color: #0087ff; text-decoration-color: #0087ff\">Conv2D</span>)             │ (<span style=\"color: #00d7ff; text-decoration-color: #00d7ff\">None</span>, <span style=\"color: #00af00; text-decoration-color: #00af00\">57</span>, <span style=\"color: #00af00; text-decoration-color: #00af00\">300</span>, <span style=\"color: #00af00; text-decoration-color: #00af00\">32</span>)    │           <span style=\"color: #00af00; text-decoration-color: #00af00\">320</span> │\n",
       "├─────────────────────────────────┼────────────────────────┼───────────────┤\n",
       "│ max_pooling2d_150               │ (<span style=\"color: #00d7ff; text-decoration-color: #00d7ff\">None</span>, <span style=\"color: #00af00; text-decoration-color: #00af00\">28</span>, <span style=\"color: #00af00; text-decoration-color: #00af00\">150</span>, <span style=\"color: #00af00; text-decoration-color: #00af00\">32</span>)    │             <span style=\"color: #00af00; text-decoration-color: #00af00\">0</span> │\n",
       "│ (<span style=\"color: #0087ff; text-decoration-color: #0087ff\">MaxPooling2D</span>)                  │                        │               │\n",
       "├─────────────────────────────────┼────────────────────────┼───────────────┤\n",
       "│ conv2d_151 (<span style=\"color: #0087ff; text-decoration-color: #0087ff\">Conv2D</span>)             │ (<span style=\"color: #00d7ff; text-decoration-color: #00d7ff\">None</span>, <span style=\"color: #00af00; text-decoration-color: #00af00\">28</span>, <span style=\"color: #00af00; text-decoration-color: #00af00\">150</span>, <span style=\"color: #00af00; text-decoration-color: #00af00\">64</span>)    │        <span style=\"color: #00af00; text-decoration-color: #00af00\">18,496</span> │\n",
       "├─────────────────────────────────┼────────────────────────┼───────────────┤\n",
       "│ max_pooling2d_151               │ (<span style=\"color: #00d7ff; text-decoration-color: #00d7ff\">None</span>, <span style=\"color: #00af00; text-decoration-color: #00af00\">14</span>, <span style=\"color: #00af00; text-decoration-color: #00af00\">75</span>, <span style=\"color: #00af00; text-decoration-color: #00af00\">64</span>)     │             <span style=\"color: #00af00; text-decoration-color: #00af00\">0</span> │\n",
       "│ (<span style=\"color: #0087ff; text-decoration-color: #0087ff\">MaxPooling2D</span>)                  │                        │               │\n",
       "├─────────────────────────────────┼────────────────────────┼───────────────┤\n",
       "│ conv2d_152 (<span style=\"color: #0087ff; text-decoration-color: #0087ff\">Conv2D</span>)             │ (<span style=\"color: #00d7ff; text-decoration-color: #00d7ff\">None</span>, <span style=\"color: #00af00; text-decoration-color: #00af00\">14</span>, <span style=\"color: #00af00; text-decoration-color: #00af00\">75</span>, <span style=\"color: #00af00; text-decoration-color: #00af00\">128</span>)    │        <span style=\"color: #00af00; text-decoration-color: #00af00\">73,856</span> │\n",
       "├─────────────────────────────────┼────────────────────────┼───────────────┤\n",
       "│ max_pooling2d_152               │ (<span style=\"color: #00d7ff; text-decoration-color: #00d7ff\">None</span>, <span style=\"color: #00af00; text-decoration-color: #00af00\">7</span>, <span style=\"color: #00af00; text-decoration-color: #00af00\">37</span>, <span style=\"color: #00af00; text-decoration-color: #00af00\">128</span>)     │             <span style=\"color: #00af00; text-decoration-color: #00af00\">0</span> │\n",
       "│ (<span style=\"color: #0087ff; text-decoration-color: #0087ff\">MaxPooling2D</span>)                  │                        │               │\n",
       "├─────────────────────────────────┼────────────────────────┼───────────────┤\n",
       "│ reshape_48 (<span style=\"color: #0087ff; text-decoration-color: #0087ff\">Reshape</span>)            │ (<span style=\"color: #00d7ff; text-decoration-color: #00d7ff\">None</span>, <span style=\"color: #00af00; text-decoration-color: #00af00\">259</span>, <span style=\"color: #00af00; text-decoration-color: #00af00\">128</span>)       │             <span style=\"color: #00af00; text-decoration-color: #00af00\">0</span> │\n",
       "├─────────────────────────────────┼────────────────────────┼───────────────┤\n",
       "│ lstm_94 (<span style=\"color: #0087ff; text-decoration-color: #0087ff\">LSTM</span>)                  │ (<span style=\"color: #00d7ff; text-decoration-color: #00d7ff\">None</span>, <span style=\"color: #00af00; text-decoration-color: #00af00\">259</span>, <span style=\"color: #00af00; text-decoration-color: #00af00\">128</span>)       │       <span style=\"color: #00af00; text-decoration-color: #00af00\">131,584</span> │\n",
       "├─────────────────────────────────┼────────────────────────┼───────────────┤\n",
       "│ lstm_95 (<span style=\"color: #0087ff; text-decoration-color: #0087ff\">LSTM</span>)                  │ (<span style=\"color: #00d7ff; text-decoration-color: #00d7ff\">None</span>, <span style=\"color: #00af00; text-decoration-color: #00af00\">259</span>, <span style=\"color: #00af00; text-decoration-color: #00af00\">64</span>)        │        <span style=\"color: #00af00; text-decoration-color: #00af00\">49,408</span> │\n",
       "├─────────────────────────────────┼────────────────────────┼───────────────┤\n",
       "│ dense_47 (<span style=\"color: #0087ff; text-decoration-color: #0087ff\">Dense</span>)                │ (<span style=\"color: #00d7ff; text-decoration-color: #00d7ff\">None</span>, <span style=\"color: #00af00; text-decoration-color: #00af00\">259</span>, <span style=\"color: #00af00; text-decoration-color: #00af00\">63</span>)        │         <span style=\"color: #00af00; text-decoration-color: #00af00\">4,095</span> │\n",
       "└─────────────────────────────────┴────────────────────────┴───────────────┘\n",
       "</pre>\n"
      ],
      "text/plain": [
       "┏━━━━━━━━━━━━━━━━━━━━━━━━━━━━━━━━━┳━━━━━━━━━━━━━━━━━━━━━━━━┳━━━━━━━━━━━━━━━┓\n",
       "┃\u001b[1m \u001b[0m\u001b[1mLayer (type)                   \u001b[0m\u001b[1m \u001b[0m┃\u001b[1m \u001b[0m\u001b[1mOutput Shape          \u001b[0m\u001b[1m \u001b[0m┃\u001b[1m \u001b[0m\u001b[1m      Param #\u001b[0m\u001b[1m \u001b[0m┃\n",
       "┡━━━━━━━━━━━━━━━━━━━━━━━━━━━━━━━━━╇━━━━━━━━━━━━━━━━━━━━━━━━╇━━━━━━━━━━━━━━━┩\n",
       "│ input_layer_50 (\u001b[38;5;33mInputLayer\u001b[0m)     │ (\u001b[38;5;45mNone\u001b[0m, \u001b[38;5;34m57\u001b[0m, \u001b[38;5;34m300\u001b[0m, \u001b[38;5;34m1\u001b[0m)     │             \u001b[38;5;34m0\u001b[0m │\n",
       "├─────────────────────────────────┼────────────────────────┼───────────────┤\n",
       "│ conv2d_150 (\u001b[38;5;33mConv2D\u001b[0m)             │ (\u001b[38;5;45mNone\u001b[0m, \u001b[38;5;34m57\u001b[0m, \u001b[38;5;34m300\u001b[0m, \u001b[38;5;34m32\u001b[0m)    │           \u001b[38;5;34m320\u001b[0m │\n",
       "├─────────────────────────────────┼────────────────────────┼───────────────┤\n",
       "│ max_pooling2d_150               │ (\u001b[38;5;45mNone\u001b[0m, \u001b[38;5;34m28\u001b[0m, \u001b[38;5;34m150\u001b[0m, \u001b[38;5;34m32\u001b[0m)    │             \u001b[38;5;34m0\u001b[0m │\n",
       "│ (\u001b[38;5;33mMaxPooling2D\u001b[0m)                  │                        │               │\n",
       "├─────────────────────────────────┼────────────────────────┼───────────────┤\n",
       "│ conv2d_151 (\u001b[38;5;33mConv2D\u001b[0m)             │ (\u001b[38;5;45mNone\u001b[0m, \u001b[38;5;34m28\u001b[0m, \u001b[38;5;34m150\u001b[0m, \u001b[38;5;34m64\u001b[0m)    │        \u001b[38;5;34m18,496\u001b[0m │\n",
       "├─────────────────────────────────┼────────────────────────┼───────────────┤\n",
       "│ max_pooling2d_151               │ (\u001b[38;5;45mNone\u001b[0m, \u001b[38;5;34m14\u001b[0m, \u001b[38;5;34m75\u001b[0m, \u001b[38;5;34m64\u001b[0m)     │             \u001b[38;5;34m0\u001b[0m │\n",
       "│ (\u001b[38;5;33mMaxPooling2D\u001b[0m)                  │                        │               │\n",
       "├─────────────────────────────────┼────────────────────────┼───────────────┤\n",
       "│ conv2d_152 (\u001b[38;5;33mConv2D\u001b[0m)             │ (\u001b[38;5;45mNone\u001b[0m, \u001b[38;5;34m14\u001b[0m, \u001b[38;5;34m75\u001b[0m, \u001b[38;5;34m128\u001b[0m)    │        \u001b[38;5;34m73,856\u001b[0m │\n",
       "├─────────────────────────────────┼────────────────────────┼───────────────┤\n",
       "│ max_pooling2d_152               │ (\u001b[38;5;45mNone\u001b[0m, \u001b[38;5;34m7\u001b[0m, \u001b[38;5;34m37\u001b[0m, \u001b[38;5;34m128\u001b[0m)     │             \u001b[38;5;34m0\u001b[0m │\n",
       "│ (\u001b[38;5;33mMaxPooling2D\u001b[0m)                  │                        │               │\n",
       "├─────────────────────────────────┼────────────────────────┼───────────────┤\n",
       "│ reshape_48 (\u001b[38;5;33mReshape\u001b[0m)            │ (\u001b[38;5;45mNone\u001b[0m, \u001b[38;5;34m259\u001b[0m, \u001b[38;5;34m128\u001b[0m)       │             \u001b[38;5;34m0\u001b[0m │\n",
       "├─────────────────────────────────┼────────────────────────┼───────────────┤\n",
       "│ lstm_94 (\u001b[38;5;33mLSTM\u001b[0m)                  │ (\u001b[38;5;45mNone\u001b[0m, \u001b[38;5;34m259\u001b[0m, \u001b[38;5;34m128\u001b[0m)       │       \u001b[38;5;34m131,584\u001b[0m │\n",
       "├─────────────────────────────────┼────────────────────────┼───────────────┤\n",
       "│ lstm_95 (\u001b[38;5;33mLSTM\u001b[0m)                  │ (\u001b[38;5;45mNone\u001b[0m, \u001b[38;5;34m259\u001b[0m, \u001b[38;5;34m64\u001b[0m)        │        \u001b[38;5;34m49,408\u001b[0m │\n",
       "├─────────────────────────────────┼────────────────────────┼───────────────┤\n",
       "│ dense_47 (\u001b[38;5;33mDense\u001b[0m)                │ (\u001b[38;5;45mNone\u001b[0m, \u001b[38;5;34m259\u001b[0m, \u001b[38;5;34m63\u001b[0m)        │         \u001b[38;5;34m4,095\u001b[0m │\n",
       "└─────────────────────────────────┴────────────────────────┴───────────────┘\n"
      ]
     },
     "metadata": {},
     "output_type": "display_data"
    },
    {
     "data": {
      "text/html": [
       "<pre style=\"white-space:pre;overflow-x:auto;line-height:normal;font-family:Menlo,'DejaVu Sans Mono',consolas,'Courier New',monospace\"><span style=\"font-weight: bold\"> Total params: </span><span style=\"color: #00af00; text-decoration-color: #00af00\">833,279</span> (3.18 MB)\n",
       "</pre>\n"
      ],
      "text/plain": [
       "\u001b[1m Total params: \u001b[0m\u001b[38;5;34m833,279\u001b[0m (3.18 MB)\n"
      ]
     },
     "metadata": {},
     "output_type": "display_data"
    },
    {
     "data": {
      "text/html": [
       "<pre style=\"white-space:pre;overflow-x:auto;line-height:normal;font-family:Menlo,'DejaVu Sans Mono',consolas,'Courier New',monospace\"><span style=\"font-weight: bold\"> Trainable params: </span><span style=\"color: #00af00; text-decoration-color: #00af00\">277,759</span> (1.06 MB)\n",
       "</pre>\n"
      ],
      "text/plain": [
       "\u001b[1m Trainable params: \u001b[0m\u001b[38;5;34m277,759\u001b[0m (1.06 MB)\n"
      ]
     },
     "metadata": {},
     "output_type": "display_data"
    },
    {
     "data": {
      "text/html": [
       "<pre style=\"white-space:pre;overflow-x:auto;line-height:normal;font-family:Menlo,'DejaVu Sans Mono',consolas,'Courier New',monospace\"><span style=\"font-weight: bold\"> Non-trainable params: </span><span style=\"color: #00af00; text-decoration-color: #00af00\">0</span> (0.00 B)\n",
       "</pre>\n"
      ],
      "text/plain": [
       "\u001b[1m Non-trainable params: \u001b[0m\u001b[38;5;34m0\u001b[0m (0.00 B)\n"
      ]
     },
     "metadata": {},
     "output_type": "display_data"
    },
    {
     "data": {
      "text/html": [
       "<pre style=\"white-space:pre;overflow-x:auto;line-height:normal;font-family:Menlo,'DejaVu Sans Mono',consolas,'Courier New',monospace\"><span style=\"font-weight: bold\"> Optimizer params: </span><span style=\"color: #00af00; text-decoration-color: #00af00\">555,520</span> (2.12 MB)\n",
       "</pre>\n"
      ],
      "text/plain": [
       "\u001b[1m Optimizer params: \u001b[0m\u001b[38;5;34m555,520\u001b[0m (2.12 MB)\n"
      ]
     },
     "metadata": {},
     "output_type": "display_data"
    },
    {
     "name": "stdout",
     "output_type": "stream",
     "text": [
      "[INFO] Encoder loaded successfully!\n",
      "[DEBUG] Testing\n",
      "[32  1  5 32]\n",
      "['W' '1' '5' 'W']\n",
      "[DEBUG] Image sample and its label to be predict:\n"
     ]
    },
    {
     "data": {
      "image/png": "[encoded data removed]",
      "text/plain": [
       "<Figure size 800x800 with 1 Axes>"
      ]
     },
     "metadata": {},
     "output_type": "display_data"
    },
    {
     "name": "stdout",
     "output_type": "stream",
     "text": [
      "[DEBUG] Image shape after preprocessing: (1, 57, 300, 1)\n",
      "[DEBUG] model prediction:\n"
     ]
    },
    {
     "name": "stderr",
     "output_type": "stream",
     "text": [
      "/opt/anaconda3/lib/python3.12/site-packages/tensorflow/python/data/ops/structured_function.py:258: UserWarning: Even though the `tf.config.experimental_run_functions_eagerly` option is set, this option does not apply to tf.data functions. To force eager execution of tf.data functions, please use `tf.data.experimental.enable_debug_mode()`.\n",
      "  warnings.warn(\n"
     ]
    },
    {
     "name": "stdout",
     "output_type": "stream",
     "text": [
      "\u001b[1m1/1\u001b[0m \u001b[32m━━━━━━━━━━━━━━━━━━━━\u001b[0m\u001b[37m\u001b[0m \u001b[1m2s\u001b[0m 2s/step\n",
      "[DEBUG] prediction length: 1\n",
      "[DEBUG] prediction: 6\n"
     ]
    }
   ],
   "source": [
    "if __name__ == '__main__':\n",
    "    # train()\n",
    "    predict()"
   ]
  }
 ],
 "metadata": {
  "kernelspec": {
   "display_name": "Python [conda env:base] *",
   "language": "python",
   "name": "conda-base-py"
  },
  "language_info": {
   "codemirror_mode": {
    "name": "ipython",
    "version": 3
   },
   "file_extension": ".py",
   "mimetype": "text/x-python",
   "name": "python",
   "nbconvert_exporter": "python",
   "pygments_lexer": "ipython3",
   "version": "3.12.7"
  }
 },
 "nbformat": 4,
 "nbformat_minor": 5
}
