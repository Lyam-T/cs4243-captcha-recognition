{
 "cells": [
  {
   "cell_type": "code",
   "execution_count": 17,
   "id": "d20804a0-0bb6-4b49-ae38-e124480d3036",
   "metadata": {},
   "outputs": [],
   "source": [
    "import cv2\n",
    "import os"
   ]
  },
  {
   "cell_type": "code",
   "execution_count": 3,
   "id": "76e8b6e0-b830-4237-a241-5c566c659445",
   "metadata": {},
   "outputs": [
    {
     "name": "stderr",
     "output_type": "stream",
     "text": [
      "2025-03-23 16:04:27.150067: I tensorflow/core/platform/cpu_feature_guard.cc:210] This TensorFlow binary is optimized to use available CPU instructions in performance-critical operations.\n",
      "To enable the following instructions: SSE4.1 SSE4.2 AVX AVX2 FMA, in other operations, rebuild TensorFlow with the appropriate compiler flags.\n"
     ]
    }
   ],
   "source": [
    "from keras.models import load_model\n",
    "def load_model():\n",
    "    model = load_model(\"captcha_crnn_model.keras\", custom_objects={'ctc_loss': ctc_loss})\n",
    "    return model"
   ]
  },
  {
   "cell_type": "code",
   "execution_count": 35,
   "id": "f486b80b-01b9-4fc2-8103-0613993fac2a",
   "metadata": {},
   "outputs": [],
   "source": [
    "# Predict a CAPTCHA image\n",
    "def predict_captcha(model, file_path):\n",
    "    n_samples = len(os.listdir(file_path))\n",
    "    labels = []\n",
    "    predicts = []\n",
    "\n",
    "    # read from the directory\n",
    "    for i, img in enumerate(os.listdir(file_path)):\n",
    "        if (i == 1):\n",
    "            break;\n",
    "        img_read = cv2.resize(cv2.imread(os.path.join(file_path, img), 0), (300, 57))\n",
    "        labels.append(img[0:-6])\n",
    "        \n",
    "        # Preprocess the image\n",
    "        imgs_reshaped = img_read.reshape(-1, 57, 300, 1)  # Reshape for model input\n",
    "        # Predict the CAPTCHA\n",
    "        predictions = model.predict(imgs_reshaped)\n",
    "        decoded = K.ctc_decode(predictions, input_length=np.ones(predictions.shape[0]) * predictions.shape[1], greedy=True)[0][0]\n",
    "        decoded = K.eval(decoded)  # Convert tensor to numpy array\n",
    "        predicts.append(\"\".join(label_encoder.inverse_transform(decoded[0])))\n",
    "        \n",
    "    return labels, predicts"
   ]
  },
  {
   "cell_type": "code",
   "execution_count": 37,
   "id": "07713436-1d96-42c4-9d7f-08c5a6847780",
   "metadata": {},
   "outputs": [
    {
     "ename": "AttributeError",
     "evalue": "'function' object has no attribute 'predict'",
     "output_type": "error",
     "traceback": [
      "\u001b[0;31m---------------------------------------------------------------------------\u001b[0m",
      "\u001b[0;31mAttributeError\u001b[0m                            Traceback (most recent call last)",
      "Cell \u001b[0;32mIn[37], line 3\u001b[0m\n\u001b[1;32m      1\u001b[0m \u001b[38;5;28;01mif\u001b[39;00m \u001b[38;5;18m__name__\u001b[39m \u001b[38;5;241m==\u001b[39m \u001b[38;5;124m'\u001b[39m\u001b[38;5;124m__main__\u001b[39m\u001b[38;5;124m'\u001b[39m:\n\u001b[1;32m      2\u001b[0m     model \u001b[38;5;241m=\u001b[39m load_model\n\u001b[0;32m----> 3\u001b[0m     labels, predicts \u001b[38;5;241m=\u001b[39m predict_captcha(model, \u001b[38;5;124m\"\u001b[39m\u001b[38;5;124m./data/test\u001b[39m\u001b[38;5;124m\"\u001b[39m)\n",
      "Cell \u001b[0;32mIn[35], line 17\u001b[0m, in \u001b[0;36mpredict_captcha\u001b[0;34m(model, file_path)\u001b[0m\n\u001b[1;32m     15\u001b[0m imgs_reshaped \u001b[38;5;241m=\u001b[39m img_read\u001b[38;5;241m.\u001b[39mreshape(\u001b[38;5;241m-\u001b[39m\u001b[38;5;241m1\u001b[39m, \u001b[38;5;241m57\u001b[39m, \u001b[38;5;241m300\u001b[39m, \u001b[38;5;241m1\u001b[39m)  \u001b[38;5;66;03m# Reshape for model input\u001b[39;00m\n\u001b[1;32m     16\u001b[0m \u001b[38;5;66;03m# Predict the CAPTCHA\u001b[39;00m\n\u001b[0;32m---> 17\u001b[0m predictions \u001b[38;5;241m=\u001b[39m model\u001b[38;5;241m.\u001b[39mpredict(imgs_reshaped)\n\u001b[1;32m     18\u001b[0m decoded \u001b[38;5;241m=\u001b[39m K\u001b[38;5;241m.\u001b[39mctc_decode(predictions, input_length\u001b[38;5;241m=\u001b[39mnp\u001b[38;5;241m.\u001b[39mones(predictions\u001b[38;5;241m.\u001b[39mshape[\u001b[38;5;241m0\u001b[39m]) \u001b[38;5;241m*\u001b[39m predictions\u001b[38;5;241m.\u001b[39mshape[\u001b[38;5;241m1\u001b[39m], greedy\u001b[38;5;241m=\u001b[39m\u001b[38;5;28;01mTrue\u001b[39;00m)[\u001b[38;5;241m0\u001b[39m][\u001b[38;5;241m0\u001b[39m]\n\u001b[1;32m     19\u001b[0m decoded \u001b[38;5;241m=\u001b[39m K\u001b[38;5;241m.\u001b[39meval(decoded)  \u001b[38;5;66;03m# Convert tensor to numpy array\u001b[39;00m\n",
      "\u001b[0;31mAttributeError\u001b[0m: 'function' object has no attribute 'predict'"
     ]
    }
   ],
   "source": [
    "if __name__ == '__main__':\n",
    "    model = load_model\n",
    "    labels, predicts = predict_captcha(model, \"./data/test\")"
   ]
  }
 ],
 "metadata": {
  "kernelspec": {
   "display_name": "Python [conda env:base] *",
   "language": "python",
   "name": "conda-base-py"
  },
  "language_info": {
   "codemirror_mode": {
    "name": "ipython",
    "version": 3
   },
   "file_extension": ".py",
   "mimetype": "text/x-python",
   "name": "python",
   "nbconvert_exporter": "python",
   "pygments_lexer": "ipython3",
   "version": "3.12.7"
  }
 },
 "nbformat": 4,
 "nbformat_minor": 5
}
